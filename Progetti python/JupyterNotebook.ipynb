{
 "cells": [
  {
   "cell_type": "code",
   "execution_count": null,
   "id": "44d26fdd",
   "metadata": {
    "vscode": {
     "languageId": "python"
    }
   },
   "outputs": [],
   "source": [
    "import numpy as np"
   ]
  },
  {
   "cell_type": "code",
   "execution_count": null,
   "id": "39d5b880-f365-4862-b13a-448bc74a5394",
   "metadata": {
    "vscode": {
     "languageId": "python"
    }
   },
   "outputs": [],
   "source": [
    "Input = [[0,0,0],\n",
    "         [0,0,1],\n",
    "         [0,1,0],\n",
    "         [0,1,1],\n",
    "         [1,0,0],\n",
    "         [1,0,1],\n",
    "         [1,1,0],\n",
    "         [1,1,1]]\n",
    "\n",
    "np.array(Input, dtype=np.bool)\n",
    "\n",
    "Output = [[0],\n",
    "          [1],\n",
    "          [0],\n",
    "          [0],\n",
    "          [1],\n",
    "          [0],\n",
    "          [1],\n",
    "          [0]]\n",
    "\n",
    "np.array(Output, dtype=np.bool)\n",
    "\n",
    "Risultato = []"
   ]
  },
  {
   "cell_type": "code",
   "execution_count": null,
   "id": "ae714637",
   "metadata": {
    "vscode": {
     "languageId": "python"
    }
   },
   "outputs": [],
   "source": [
    "for n,i in enumerate(Output):\n",
    "    if i[0] == 1:\n",
    "        Risultato.append(\"A\" if Input[n][0] else \"a\")\n",
    "        Risultato.append(\"*\")\n",
    "        Risultato.append(\"B\" if Input[n][1] else \"b\")\n",
    "        Risultato.append(\"*\")\n",
    "        Risultato.append(\"C\" if Input[n][2] else \"c\")"
   ]
  },
  {
   "cell_type": "code",
   "execution_count": null,
   "id": "298e569e",
   "metadata": {
    "vscode": {
     "languageId": "python"
    }
   },
   "outputs": [],
   "source": [
    "print(\"Input\")\n",
    "print(np.array2string(Input))\n",
    "print(\"Output\")\n",
    "print(np.array2string(Output))\n",
    "print(\"Risultato\")\n",
    "print(np.array2string(Risultato))"
   ]
  }
 ],
 "metadata": {
  "kernelspec": {
   "display_name": "",
   "name": ""
  },
  "language_info": {
   "name": ""
  }
 },
 "nbformat": 4,
 "nbformat_minor": 5
}
